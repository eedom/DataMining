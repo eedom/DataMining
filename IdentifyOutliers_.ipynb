{
  "nbformat": 4,
  "nbformat_minor": 0,
  "metadata": {
    "colab": {
      "provenance": [],
      "toc_visible": true
    },
    "kernelspec": {
      "name": "python3",
      "display_name": "Python 3"
    },
    "language_info": {
      "name": "python"
    }
  },
  "cells": [
    {
      "cell_type": "markdown",
      "source": [
        "# Homework 04\n",
        "\n",
        "## Denver Neighborhoods\n",
        "\n",
        "## Goal\n",
        "\n",
        "Identify (potential) outliers in a dataset. \n",
        "\n",
        "## Instructions \n",
        "\n",
        "During the discussions of activity 11 (Denver neighborhoods), the box plot below was generated where 5 data points can be spotted as (potential) outliers. Your goal is to write a program that identifies the name of the neighborhoods associated with those 5 data points. Hint: use the 'whisker' key to query the box plot returned dictionary to find the whiskers lower and upper bounds. \n",
        "\n",
        "![](files/boxplot.png)\n",
        "\n",
        "Expected output of your program: \n",
        "\n",
        "```\n",
        "Hilltop has homes priced much higher compared to others.\n",
        "Country Club has homes priced much higher compared to others.\n",
        "Was. Park has homes priced much higher compared to others.\n",
        "Hampden is much more populated compared to the others.\n",
        "Virginia Village has a school score average much lower compared to others.\n",
        "```"
      ],
      "metadata": {
        "id": "ds45Hv8l6kb3"
      }
    },
    {
      "cell_type": "code",
      "execution_count": 1,
      "metadata": {
        "id": "tojqbQyI6ChE"
      },
      "outputs": [],
      "source": [
        "import csv\n",
        "import os\n",
        "import matplotlib.pyplot as plt\n",
        "import re\n",
        "import numpy as np\n"
      ]
    },
    {
      "cell_type": "code",
      "source": [
        "DATA_FOLDER = 'data'\n",
        "CSV_FILE_NAME = '/content/denver_neighborhoods.csv'"
      ],
      "metadata": {
        "id": "EgyhsukU6GFN"
      },
      "execution_count": 2,
      "outputs": []
    },
    {
      "cell_type": "code",
      "source": [
        "# Google drive mount\n",
        "# drive.mount('/content/drive')\n",
        "def exists(list, i):\n",
        "    if len(list) == 0:\n",
        "        return False\n",
        "    return (0 <= i < len(list))\n",
        "\n",
        "\n",
        "def min_max(data, mins, maxs, interval=(0, 1)):\n",
        "    return [\n",
        "        int(((data[i] - mins[i]) / (maxs[i] - mins[i]) * (interval[1] - interval[0]) + interval[0]) * 100000) / 100000\n",
        "        for i in range(len(data))]\n",
        "\n",
        "\n",
        "# TODOd: finish the scraper\n",
        "if __name__ == \"__main__\":\n",
        "\n",
        "    matrix = []\n",
        "    neighborhoods = []\n",
        "    headers = []\n",
        "    with open(os.path.join(DATA_FOLDER, CSV_FILE_NAME), 'rt') as csv_file:\n",
        "        reader = csv.reader(csv_file)\n",
        "        row_count = 0\n",
        "        for row in reader:\n",
        "            row_count += 1\n",
        "            if row_count == 1:\n",
        "                headers = row\n",
        "                continue\n",
        "            row[0] = re.sub('Washington', 'Was.', row[0])\n",
        "            row[0] = re.sub('South', 'S.', row[0])\n",
        "            neighborhoods.append(row[0])\n",
        "            data = [int(row[1]), int(row[2]), float(row[3]), int(row[4]), float(row[5])]\n",
        "            if row_count == 2:\n",
        "                mins = list(data)\n",
        "                maxs = list(data)\n",
        "            else:\n",
        "                for i in range(len(data)):\n",
        "                    mins[i] = min(mins[i], data[i])\n",
        "                    maxs[i] = max(maxs[i], data[i])\n",
        "            matrix.append(data)\n",
        "\n",
        "    # print(mins)\n",
        "    # print(maxs)\n",
        "    matrix = [min_max(data, mins, maxs) for data in matrix]\n",
        "    # print(matrix)\n",
        "\n",
        "    columns = [[], [], [], [], []]\n",
        "    for data in matrix:\n",
        "        for i in range(5):\n",
        "            columns[i].append(data[i])\n",
        "    bp = plt.boxplot(columns)\n",
        "    axes = plt.gca()\n",
        "    labels = []\n",
        "    for i in range(1, len(headers)):\n",
        "        labels.append(headers[i])\n",
        "\n",
        "    axes.set_xticklabels(labels)\n",
        "    plt.title('Neighborhoods in the Denver Metro Area')\n",
        "    plt.ylabel('Normalized Values')\n",
        "\n",
        "    # TODOd: evaluate outliers in population\n",
        "    outlier_ranges = []\n",
        "    i = 0\n",
        "    for whisker in bp['whiskers']:\n",
        "        whiskerXY = whisker.get_xydata()\n",
        "\n",
        "        if not exists(outlier_ranges, i):\n",
        "            outlier_ranges.append([whiskerXY[1][1]])\n",
        "        else:\n",
        "            outlier_ranges[i].append(whiskerXY[1][1])\n",
        "            i += 1\n",
        "\n",
        "    for i in range(len(matrix)):\n",
        "        row = matrix[i]\n",
        "        names = neighborhoods[i]\n",
        "\n",
        "        for k in range(len(outlier_ranges)):\n",
        "\n",
        "            if (row[k] < outlier_ranges[k][0]):\n",
        "                print(names + \" has \" + headers[k + 1] + \" average much lower compared to others\")\n",
        "            if (row[k] > outlier_ranges[k][1]):\n",
        "                print(names + \" has \" + headers[k + 1] + \" much higher compared to others\")\n",
        "\n",
        "    plt.show()\n"
      ],
      "metadata": {
        "colab": {
          "base_uri": "https://localhost:8080/",
          "height": 369
        },
        "id": "Ec-RDMdD6SZt",
        "outputId": "a7822d99-886a-4941-e20e-ae4086efa556"
      },
      "execution_count": 3,
      "outputs": [
        {
          "output_type": "stream",
          "name": "stdout",
          "text": [
            "Hilltop has home_price much higher compared to others\n",
            "Country Club has home_price much higher compared to others\n",
            "Was. Park has home_price much higher compared to others\n",
            "Hampden has population much higher compared to others\n",
            "Virginia Village has schools_score average much lower compared to others\n"
          ]
        },
        {
          "output_type": "display_data",
          "data": {
            "text/plain": [
              "<Figure size 432x288 with 1 Axes>"
            ],
            "image/png": "[encoded data removed]"
          },
          "metadata": {
            "needs_background": "light"
          }
        }
      ]
    }
  ]
}