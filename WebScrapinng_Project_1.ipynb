{
  "nbformat": 4,
  "nbformat_minor": 0,
  "metadata": {
    "colab": {
      "name": "WebScrapinng01.ipynb",
      "provenance": [],
      "collapsed_sections": [],
      "include_colab_link": true
    },
    "kernelspec": {
      "name": "python3",
      "display_name": "Python 3"
    },
    "language_info": {
      "name": "python"
    }
  },
  "cells": [
    {
      "cell_type": "markdown",
      "metadata": {
        "id": "view-in-github",
        "colab_type": "text"
      },
      "source": [
        "<a href=\"https://colab.research.google.com/github/eedom/DataMining/blob/main/WebScrapinng_Project_1.ipynb\" target=\"_parent\"><img src=\"https://colab.research.google.com/assets/colab-badge.svg\" alt=\"Open In Colab\"/></a>"
      ]
    },
    {
      "cell_type": "markdown",
      "metadata": {
        "id": "HLTH4OvwGS1S"
      },
      "source": [
        "# Preamble¶\n",
        "Title: A Comparison of Water supply in Ethiopian (2015- 2019\n",
        "\n",
        "Author: Edom Eshete\n",
        "\n",
        "Email: eeshete@msudenver.edu\n",
        "\n",
        "Last Update: 2021-09-29"
      ]
    },
    {
      "cell_type": "markdown",
      "metadata": {
        "id": "xEmNdKqdH8xq"
      },
      "source": [
        "#Introduction\n",
        "This report presents the preliminary results of an analysis of water supply in Ethiopia between 2915-1029. Data for this report was obtained from The WHO/UNICEF Joint Monitoring Programme for Water Supply, Sanitation and Hygiene (JMP) has reported country, regional and global estimates of progress on drinking water, sanitation and hygiene (WASH) since 1990."
      ]
    },
    {
      "cell_type": "markdown",
      "metadata": {
        "id": "S90ANA3bL5Vg"
      },
      "source": [
        "** Dataset**\n",
        "Data for this report was obtained from The WHO/UNICEF Joint Monitoring Programme[DATA|JMP](https://washdata.org/). Web Scrapig techniques were employed to compile Water supply in Ethiopia between 2015-2019. This Dataset compars differnt  levels of water service provieded to differnt community in Ethiopia. The Data set varies as follow:\n",
        "\n",
        "\n",
        "\n",
        "\n",
        "* **Basic** If the improved source does  not meet any one of these criteria but a round trip to collect water takes 30 minutes or less.  \n",
        "\n",
        "*   **limited**  **service:** If water collection from an improved source exceeds 30 minutes \n",
        "*   **surface** **wate**r: collected directly from a river, dam, lake, stream or irrigation cana \n",
        "\n",
        "\n",
        "*   **unimproved sources** unprotected wells or springs. \n",
        "*  **surface**  **water** collected directly from a river, dam, lake, stream or irrigation cana\n",
        "\n",
        "\n",
        "\n",
        "\n",
        "The script below automatically extracts water supply between 2015-2019. The information is saved in a json file (supply_water.json) with the following structure:\n",
        "\n",
        "\n",
        "\n",
        "\n",
        "\n",
        "\n",
        "\n",
        "\n",
        "\n"
      ]
    },
    {
      "cell_type": "markdown",
      "metadata": {
        "id": "hWYr6S5fewoO"
      },
      "source": [
        "[\n",
        "\n",
        "    [\n",
        "        {\n",
        "            \"year\": 2015,\n",
        "            \"service_type\": \"Environmental cleaning\",\n",
        "            \"service_level\": \"Basic service\",\n",
        "            \"value\": 29.7872,\n",
        "            \"country\": \"ETH\",\n",
        "            \"residence_type\": \"rural\",\n",
        "            \"population\": 24200653.533568002\n",
        "        },\n",
        "    ]\n",
        "]"
      ]
    },
    {
      "cell_type": "code",
      "metadata": {
        "id": "xkpWpL3o4IMv",
        "colab": {
          "base_uri": "https://localhost:8080/"
        },
        "outputId": "64eb8806-3b42-4699-de5d-4096ba4ea898"
      },
      "source": [
        "# CS390Z - Introduction to Data Minining - Fall 2021\n",
        "# Instructor: Thyago Mota\n",
        "# Author(s): Edom Eshete\n",
        "# Description: Data Collection\n",
        "\n",
        "from google.colab import drive\n",
        "from bs4 import BeautifulSoup\n",
        "from google.colab import drive\n",
        "import requests\n",
        "import json\n",
        "\n",
        "# definitions/parameters\n",
        "DATA_FOLDER = '/content/drive/MyDrive/Content/Colab Notebooks/water_supply/'\n",
        "FILE_NAME = 'water_supply.json'\n",
        "BASE_SITE = 'https://api.washdata.org/healthcare/estimates/country?country[]=ETH&residence[]=total&residence[]=rural&residence[]=urban&residence[]=government&residence[]=non_government&residence[]=hospital&residence[]=non_hospital&service_level[]=No%20service&service_level[]=Limited%20service&service_level[]=Basic%20service&service_level[]=Insufficient%20data&service_type[]=Water&service_type[]=Sanitation&service_type[]=Hygiene&service_type[]=Health%20care%20waste&service_type[]=Environmental%20cleaning&year[]=2015&year[]=2016&year[]=2017&year[]=2018&year[]=2019'\n",
        "HEADERS = {\"User-Agent\" : \"Mozilla/5.0 (Windows NT 10.0; Win64; x64) AppleWebKit/537.36 (KHTML, like Gecko) Chrome/74.0.3729.169 Safari/537.36\"}\n",
        "\n",
        "\n",
        "#Google drive mount\n",
        "drive.mount('/content/drive')\n",
        "\n",
        "# data collection\n",
        "data_col=[]\n",
        "service_data =[]\n",
        "\n",
        "response = requests.get(BASE_SITE, headers=HEADERS)\n",
        "if response.status_code == 200:\n",
        "    raw_json = response.content.decode('utf-8')\n",
        "    json_unpacked = json.loads(raw_json)\n",
        "    #r_json = raw_json[:100]\n",
        "    #print(r_json)\n",
        "    \n",
        "                 \n",
        "\n",
        "    for items in json_unpacked:\n",
        "                res = json_unpacked['results']\n",
        "                data_col.append(res)\n",
        "             \n",
        "\n",
        "  \n",
        "\n",
        "with open(DATA_FOLDER + FILE_NAME, 'wt') as json_file:\n",
        "  json.dump(data_col, json_file, indent=4)\n",
        "\n",
        "\n",
        "#print(data_col)\n",
        "\n"
      ],
      "execution_count": null,
      "outputs": [
        {
          "output_type": "stream",
          "name": "stdout",
          "text": [
            "Drive already mounted at /content/drive; to attempt to forcibly remount, call drive.mount(\"/content/drive\", force_remount=True).\n"
          ]
        }
      ]
    },
    {
      "cell_type": "code",
      "metadata": {
        "id": "X858H5Ab5q_K",
        "colab": {
          "base_uri": "https://localhost:8080/"
        },
        "outputId": "9151a88c-24bb-429f-9568-340220d2a581"
      },
      "source": [
        "from google.colab import drive\n",
        "drive.mount('/content/drive')"
      ],
      "execution_count": null,
      "outputs": [
        {
          "output_type": "stream",
          "name": "stdout",
          "text": [
            "Mounted at /content/drive\n"
          ]
        }
      ]
    },
    {
      "cell_type": "markdown",
      "metadata": {
        "id": "NY71eaNGH6sE"
      },
      "source": [
        "# Summary Statistics"
      ]
    },
    {
      "cell_type": "code",
      "metadata": {
        "id": "n19kHgjm4QDI",
        "colab": {
          "base_uri": "https://localhost:8080/"
        },
        "outputId": "b8867511-3ae8-4f65-c753-8c5a614e5640"
      },
      "source": [
        "# CS390Z - Introduction to Data Minining - Fall 2021\n",
        "# Instructor: Thyago Mota\n",
        "# Author(s):Edom Eshete\n",
        "# Description: Summary Statistics \n",
        "\n",
        "\n",
        "import json\n",
        "from google.colab import drive\n",
        "import numpy as np\n",
        "\n",
        "# definitions/parameters\n",
        "DATA_FOLDER = '/content/drive/MyDrive/Content/Colab Notebooks/water_supply/'\n",
        "FILE_NAME = 'water_supply.json'\n",
        "\n",
        "with open(DATA_FOLDER + FILE_NAME, 'r') as json_file:\n",
        "  data_col = json.load(json_file)\n",
        "\n",
        "# service_type == water \n",
        "# get all service_level \n",
        "\n",
        "coverage = {}\n",
        "\n",
        "for i in data_col:\n",
        "    for j in i:\n",
        "        type_ = j['service_type']\n",
        "        try:\n",
        "            coverage[type_] += 1\n",
        "        except:\n",
        "            coverage[type_] = 1\n",
        "\n",
        "print(coverage)\n",
        "\n",
        "coverage_array = [i for i in coverage.values()]\n",
        "\n",
        "\n",
        "\n",
        "print('*** Summary Statistics ***')\n",
        "print(f'#Data_Collecation: {len(coverage)}')\n",
        "print(f'Coverage range: [{np.min(coverage_array)},{np.max(coverage_array)}]')\n",
        "print('converage mean: {:.2f}'.format(np.mean(coverage_array)))\n",
        "print('converage median: {:.2f}'.format(np.median(coverage_array)))\n",
        "print('Coverage std: {:.2f}'.format(np.std(coverage_array)))\n",
        "\n"
      ],
      "execution_count": null,
      "outputs": [
        {
          "output_type": "stream",
          "name": "stdout",
          "text": [
            "{'Environmental cleaning': 240, 'Hygiene': 300, 'Sanitation': 420, 'Water': 420, 'Health care waste': 300}\n",
            "*** Summary Statistics ***\n",
            "#Data_Collecation: 5\n",
            "Coverage range: [240,420]\n",
            "converage mean: 336.00\n",
            "converage median: 300.00\n",
            "Coverage std: 72.00\n"
          ]
        }
      ]
    },
    {
      "cell_type": "markdown",
      "metadata": {
        "id": "2LgrldxH1u0r"
      },
      "source": [
        "# Visualizations"
      ]
    },
    {
      "cell_type": "code",
      "metadata": {
        "id": "VpN56NlLQ5HR",
        "colab": {
          "base_uri": "https://localhost:8080/",
          "height": 318
        },
        "outputId": "21b5ee19-9335-4bc4-c25c-3ef98bb00ed6"
      },
      "source": [
        "# CS390Z - Introduction to Data Minining - Fall 2021\n",
        "# Instructor: Thyago Mota\n",
        "# Author(s):Edom Eshete\n",
        "# Description: histogram\n",
        "\n",
        "from google.colab import drive\n",
        "import matplotlib.pyplot as plt \n",
        "\n",
        "\n",
        "# definitions/parameters\n",
        "DATA_FOLDER = '/content/drive/MyDrive/Content/Colab Notebooks/water_supply/'\n",
        "FILE_NAME = 'water_supply.json'\n",
        "\n",
        "\n",
        "\n",
        "with open(DATA_FOLDER + FILE_NAME, 'rt') as json_file:\n",
        "  data_col = json.load(json_file)\n",
        "\n",
        "coverage = {}\n",
        "\n",
        "for i in data_col:\n",
        "    for j in i:\n",
        "        type_ = j['service_level']\n",
        "        try:\n",
        "            coverage[type_] += 1\n",
        "        except:\n",
        "            coverage[type_] = 1\n",
        "\n",
        "print(coverage)\n",
        "val_1 =[]\n",
        "\n",
        "mylist = [key for key, val_1 in coverage.items() for _ in range(val_1)]\n",
        "\n",
        "counts, bins, _ = plt.hist(mylist, \n",
        "                           bins=5, \n",
        "                           rwidth=0.7,\n",
        "                           histtype='bar',\n",
        "                           linewidth=2,\n",
        "                           facecolor='c',\n",
        "                           hatch='/', \n",
        "                           fill=True\n",
        "                           )\n",
        "\n",
        "axes = plt.gca() \n",
        "for i in range(len(counts)):\n",
        "        plt.annotate(str(int(counts[i])), xy=(bins[i], counts[i]))\n",
        "plt.ylabel('frequency')\n",
        "plt.title('Water Coverage in Ethiopia(2015-2019)')\n",
        "plt.grid(axis='y')\n",
        "plt.show()"
      ],
      "execution_count": null,
      "outputs": [
        {
          "output_type": "stream",
          "name": "stdout",
          "text": [
            "{'Basic service': 405, 'Limited service': 345, 'Insufficient data': 525, 'No service': 405}\n"
          ]
        },
        {
          "output_type": "display_data",
          "data": {
            "image/png": "[encoded data removed]",
            "text/plain": [
              "<Figure size 432x288 with 1 Axes>"
            ]
          },
          "metadata": {
            "needs_background": "light"
          }
        }
      ]
    },
    {
      "cell_type": "code",
      "metadata": {
        "colab": {
          "base_uri": "https://localhost:8080/",
          "height": 337
        },
        "id": "rrwSz6WzrGuv",
        "outputId": "5f4d8735-18c4-423a-a4be-1e03b18993fa"
      },
      "source": [
        "# CS390Z - Introduction to Data Minining - Fall 2021\n",
        "# Instructor: Thyago Mota\n",
        "# Author(s):Edom Eshete\n",
        "# Description: box plot\n",
        "\n",
        "from google.colab import drive\n",
        "import matplotlib.pyplot as plt \n",
        "import json\n",
        "\n",
        "\n",
        "# definitions/parameters\n",
        "DATA_FOLDER = '/content/drive/MyDrive/Content/Colab Notebooks/water_supply/'\n",
        "FILE_NAME = 'water_supply.json'\n",
        "\n",
        "\n",
        "\n",
        "with open(DATA_FOLDER + FILE_NAME, 'rt') as json_file:\n",
        "  data_col = json.load(json_file)\n",
        "  \n",
        "coverage = {}\n",
        "\n",
        "for i in data_col:\n",
        "    for j in i:\n",
        "        type_ = j['service_type']\n",
        "        try:\n",
        "            coverage[type_] += 1\n",
        "        except:\n",
        "            coverage[type_] = 1\n",
        "\n",
        "print(coverage)\n",
        "outliers = {}\n",
        "coverage_ = [i for i in coverage.values()]\n",
        "\n",
        "\n",
        "bp = plt.boxplot(\n",
        "    coverage_,\n",
        "    vert=False\n",
        ")\n",
        "for median in bp['medians']:\n",
        "  xy = median.get_xydata()[0]\n",
        "  xy[1] -= .05\n",
        "  plt.annotate(str(xy[0]), xy=xy)\n",
        "    \n",
        "for cap in bp['caps']:\n",
        "  xy = cap.get_xydata()[0]\n",
        "  xy[1] -= .05\n",
        "  plt.annotate(str(xy[0]), xy=xy)\n",
        "\n",
        "min_whisker = bp['caps'][0].get_xydata()[0][0]\n",
        "max_whisker = bp['caps'][1].get_xydata()[0][0]   \n",
        "\n",
        " # if items['service_type'] < min_whisker or items['service_type'] > max_whisker:\n",
        "    \n",
        "print('*** Outliers ***')\n",
        "for key in coverage:\n",
        "  if coverage[key] < min_whisker or coverage[key] > max_whisker:\n",
        "    outliers[key] = coverage[key]\n",
        "if len(outliers) == 0:\n",
        "  print(\"No outliers\")\n",
        "else:\n",
        "  for outlier in outliers:\n",
        "      print(outlier)\n",
        "\n",
        "# for outlier in outliers:\n",
        "\n",
        "axes = plt.gca()\n",
        "axes.set_yticklabels([''])\n",
        "axes.spines['right'].set_visible(False)\n",
        "axes.spines['top'].set_visible(False)\n",
        "#plt.xlabel('Water coverage in Ethiopia(2015-2019)')\n",
        "plt.ylabel('Water Coverage in Ethiopia(2015-2019)')\n",
        "plt.show()"
      ],
      "execution_count": null,
      "outputs": [
        {
          "output_type": "stream",
          "name": "stdout",
          "text": [
            "{'Environmental cleaning': 240, 'Hygiene': 300, 'Sanitation': 420, 'Water': 420, 'Health care waste': 300}\n",
            "*** Outliers ***\n",
            "No outliers\n"
          ]
        },
        {
          "output_type": "display_data",
          "data": {
            "image/png": "[encoded data removed]",
            "text/plain": [
              "<Figure size 432x288 with 1 Axes>"
            ]
          },
          "metadata": {
            "needs_background": "light"
          }
        }
      ]
    }
  ]
}